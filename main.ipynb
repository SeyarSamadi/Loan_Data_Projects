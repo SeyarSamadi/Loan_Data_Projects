{
 "cells": [
  {
   "cell_type": "markdown",
   "id": "aa46ec74",
   "metadata": {},
   "source": []
  },
  {
   "cell_type": "markdown",
   "id": "a79f9d80",
   "metadata": {},
   "source": [
    "### Importing The Packages"
   ]
  },
  {
   "cell_type": "code",
   "execution_count": 1,
   "id": "d83eb438",
   "metadata": {},
   "outputs": [],
   "source": [
    "import numpy as np\n",
    "np.set_printoptions(suppress= True , linewidth=100 , precision=2)"
   ]
  },
  {
   "cell_type": "markdown",
   "id": "0f506f1c",
   "metadata": {},
   "source": [
    "### Importing Data"
   ]
  },
  {
   "cell_type": "code",
   "execution_count": 2,
   "id": "15b136b1",
   "metadata": {},
   "outputs": [
    {
     "data": {
      "text/plain": [
       "array([[48010226.  ,         nan,    35000.  , ...,         nan,         nan,     9452.96],\n",
       "       [57693261.  ,         nan,    30000.  , ...,         nan,         nan,     4679.7 ],\n",
       "       [59432726.  ,         nan,    15000.  , ...,         nan,         nan,     1969.83],\n",
       "       ...,\n",
       "       [50415990.  ,         nan,    10000.  , ...,         nan,         nan,     2185.64],\n",
       "       [46154151.  ,         nan,         nan, ...,         nan,         nan,     3199.4 ],\n",
       "       [66055249.  ,         nan,    10000.  , ...,         nan,         nan,      301.9 ]],\n",
       "      shape=(10000, 14))"
      ]
     },
     "execution_count": 2,
     "metadata": {},
     "output_type": "execute_result"
    }
   ],
   "source": [
    "df = np.genfromtxt(\"loan-data.csv\", delimiter=';', skip_header=1, autostrip=True)\n",
    "df"
   ]
  },
  {
   "cell_type": "markdown",
   "id": "f3e7488d",
   "metadata": {},
   "source": [
    "### Checking For Incomplete Data"
   ]
  },
  {
   "cell_type": "code",
   "execution_count": 3,
   "id": "65c87045",
   "metadata": {},
   "outputs": [
    {
     "data": {
      "text/plain": [
       "np.int64(88005)"
      ]
     },
     "execution_count": 3,
     "metadata": {},
     "output_type": "execute_result"
    }
   ],
   "source": [
    "np.isnan(df).sum()"
   ]
  },
  {
   "cell_type": "code",
   "execution_count": 4,
   "id": "ca5dad7f",
   "metadata": {},
   "outputs": [
    {
     "name": "stderr",
     "output_type": "stream",
     "text": [
      "C:\\Users\\Seyar\\AppData\\Local\\Temp\\ipykernel_12296\\2040164965.py:2: RuntimeWarning: Mean of empty slice\n",
      "  temporary_mean = np.nanmean(df,axis=0)\n"
     ]
    }
   ],
   "source": [
    "temporary_fill = np.nanmax(df) + 1\n",
    "temporary_mean = np.nanmean(df,axis=0)"
   ]
  },
  {
   "cell_type": "code",
   "execution_count": 5,
   "id": "41ad89a4",
   "metadata": {},
   "outputs": [
    {
     "name": "stderr",
     "output_type": "stream",
     "text": [
      "C:\\Users\\Seyar\\AppData\\Local\\Temp\\ipykernel_12296\\3912762540.py:1: RuntimeWarning: All-NaN slice encountered\n",
      "  temporary_stats = np.array([np.nanmin(df,axis=0),\n",
      "C:\\Users\\Seyar\\AppData\\Local\\Temp\\ipykernel_12296\\3912762540.py:3: RuntimeWarning: All-NaN slice encountered\n",
      "  np.nanmax(df,axis=0)])\n"
     ]
    }
   ],
   "source": [
    "temporary_stats = np.array([np.nanmin(df,axis=0),\n",
    "                            temporary_mean,\n",
    "                            np.nanmax(df,axis=0)])"
   ]
  },
  {
   "cell_type": "code",
   "execution_count": 6,
   "id": "fe455a6a",
   "metadata": {},
   "outputs": [
    {
     "name": "stdout",
     "output_type": "stream",
     "text": [
      "[[  373332.           nan     1000.           nan     1000.           nan        6.         31.42\n",
      "          nan         nan         nan         nan         nan        0.  ]\n",
      " [54015809.19         nan    15273.46         nan    15311.04         nan       16.62      440.92\n",
      "          nan         nan         nan         nan         nan     3143.85]\n",
      " [68616519.           nan    35000.           nan    35000.           nan       28.99     1372.97\n",
      "          nan         nan         nan         nan         nan    41913.62]]\n"
     ]
    }
   ],
   "source": [
    "print(temporary_stats)"
   ]
  }
 ],
 "metadata": {
  "kernelspec": {
   "display_name": "Python 3",
   "language": "python",
   "name": "python3"
  },
  "language_info": {
   "codemirror_mode": {
    "name": "ipython",
    "version": 3
   },
   "file_extension": ".py",
   "mimetype": "text/x-python",
   "name": "python",
   "nbconvert_exporter": "python",
   "pygments_lexer": "ipython3",
   "version": "3.13.7"
  }
 },
 "nbformat": 4,
 "nbformat_minor": 5
}
